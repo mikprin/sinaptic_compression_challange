{
 "cells": [
  {
   "cell_type": "code",
   "execution_count": 1,
   "metadata": {},
   "outputs": [],
   "source": [
    "import numpy as np\n",
    "\n",
    "def generate_pwl_with_spikes(spike_times, start_time, end_time, time_step=0.05, filename='output.pwl'):\n",
    "    # Spike pattern (based on your provided data)\n",
    "    spike_pattern = [\n",
    "    (-0.0418396, 0.0),\n",
    "    (-0.0416107, 0.05),\n",
    "    (-0.0413574, 0.1),\n",
    "    (-0.0410522, 0.15),\n",
    "    (-0.0402985, 0.2),\n",
    "    (-0.0372772, 0.25),\n",
    "    (-0.030658, 0.3),\n",
    "    (-0.0194275, 0.35),\n",
    "    (-0.00132141, 0.4),\n",
    "    (0.0177612, 0.45),\n",
    "    (0.0303101, 0.5),\n",
    "    (0.0360443, 0.55),\n",
    "    (0.0373871, 0.6),\n",
    "    (0.0360107, 0.65),\n",
    "    (0.032959, 0.7),\n",
    "    (0.0288055, 0.75),\n",
    "    (0.0240082, 0.8),\n",
    "    (0.0190521, 0.85),\n",
    "    (0.0142456, 0.9),\n",
    "    (0.00965271, 0.95),\n",
    "    (0.0053772, 1.0),\n",
    "    (0.00144958, 1.05),\n",
    "    (-0.00219421, 1.1),\n",
    "    (-0.00560303, 1.15),\n",
    "    (-0.00877991, 1.2),\n",
    "    (-0.0117462, 1.25),\n",
    "    (-0.0145264, 1.3),\n",
    "    (-0.0171021, 1.35),\n",
    "    (-0.0194672, 1.4),\n",
    "    (-0.0215881, 1.45),\n",
    "    (-0.0234894, 1.5),\n",
    "    (-0.0251953, 1.55),\n",
    "    (-0.0266937, 1.6),\n",
    "    (-0.028009, 1.65),\n",
    "    (-0.0291901, 1.7),\n",
    "    (-0.0302277, 1.75)\n",
    "]\n",
    "\n",
    "    # Total time range\n",
    "    total_time = np.arange(start_time, end_time + time_step, time_step)\n",
    "    spike_duration = spike_pattern[-1][1]  # Duration of the spike pattern in ms\n",
    "\n",
    "    # Function to determine if we're in a spike range\n",
    "    def is_spike_time(current_time):\n",
    "        for spike_time in spike_times:\n",
    "            if spike_time <= current_time < spike_time + spike_duration:\n",
    "                return spike_time\n",
    "        return None\n",
    "\n",
    "    # Open file for writing the PWL\n",
    "    with open(filename, 'w') as pwl_file:\n",
    "        for t in total_time:\n",
    "            spike_start = is_spike_time(t)\n",
    "            if spike_start is not None:\n",
    "                # Determine where we are in the spike pattern\n",
    "                time_in_spike = t - spike_start\n",
    "                # Find the voltage at this time in the spike pattern\n",
    "                spike_voltage = next(v for v, dt in spike_pattern if dt == round(time_in_spike, 3))\n",
    "                pwl_file.write(f\"{t}ms\\t{spike_voltage}V\\n\")\n",
    "            else:\n",
    "                # If not in a spike period, use the default voltage\n",
    "                pwl_file.write(f\"{t}ms\\t-0.038V\\n\")\n",
    "\n",
    "\n",
    "\n",
    "def generate_square_pulses(timestamps, pulse_width, start_time, end_time, \n",
    "                           default_voltage=0, V_on=1.2, time_step=0.05, filename='square_pulses.pwl'):\n",
    "    # Create time array\n",
    "    total_time = np.arange(start_time, end_time + time_step, time_step)\n",
    "    \n",
    "    # Function to determine the voltage at a given time\n",
    "    def get_voltage_at_time(t):\n",
    "        for pulse_start in timestamps:\n",
    "            if pulse_start <= t < pulse_start + pulse_width:\n",
    "                return V_on\n",
    "        return default_voltage\n",
    "    \n",
    "    # Write the PWL file\n",
    "    with open(filename, 'w') as pwl_file:\n",
    "        for t in total_time:\n",
    "            voltage = get_voltage_at_time(t)\n",
    "            pwl_file.write(f\"{t}ms\\t{voltage}V\\n\")\n",
    "    \n",
    "    print(f\"PWL file '{filename}' generated successfully.\")\n",
    "\n",
    "\n"
   ]
  },
  {
   "cell_type": "code",
   "execution_count": 20,
   "metadata": {},
   "outputs": [
    {
     "name": "stdout",
     "output_type": "stream",
     "text": [
      "PWL file 'square_pulses.pwl' generated successfully.\n"
     ]
    }
   ],
   "source": [
    "# Example usage:\n",
    "spike_times = [1, 3, 3, 20, 25]  # Example spike times\n",
    "generate_pwl_with_spikes(spike_times, start_time=0, end_time=30, time_step=0.05, filename='spike_output.pwl')\n",
    "\n",
    "# Example usage:\n",
    "timestamps = [5, 12, 20]  # Pulse start times in ms\n",
    "pulse_width = 0.1  # Pulse width in ms\n",
    "generate_square_pulses(timestamps, pulse_width, start_time=0, end_time=25, time_step=0.05)\n"
   ]
  },
  {
   "cell_type": "code",
   "execution_count": 23,
   "metadata": {},
   "outputs": [
    {
     "name": "stdout",
     "output_type": "stream",
     "text": [
      "Final spike series: [1, 3, 6, 9, 14.5, 16, 22, 28, 34]\n",
      "Pulse timestamps: [5, 10, 15, 20, 25, 30, 35]\n",
      "PWL file 'control_pulses.pwl.txt' generated successfully.\n",
      "PWL file 'discharge_pulses.pwl.txt' generated successfully.\n"
     ]
    }
   ],
   "source": [
    "\n",
    "\n",
    "spike_series = [\n",
    "    [1,3],\n",
    "    [1,4],\n",
    "    [4.5],\n",
    "    [1],\n",
    "    [2],\n",
    "    [3],\n",
    "    [4],\n",
    "]\n",
    "\n",
    "# Flatten the list of lists and add some constant with max value + 1 to each element\n",
    "\n",
    "final_spike_series = []\n",
    "\n",
    "current_sublist_end_time = 0\n",
    "for sublist in spike_series:\n",
    "    for i in sublist:\n",
    "        final_spike_series.append(i + current_sublist_end_time)\n",
    "    current_sublist_end_time += 5  #max(sublist)\n",
    "\n",
    "\n",
    "\n",
    "print(f\"Final spike series: {final_spike_series}\")\n",
    "\n",
    "# Now generate control measure pulses at the end of each 5ms interval\n",
    "\n",
    "pulse_width = 0.1  # Pulse width in ms\n",
    "\n",
    "pulse_timestamps = [5*i+5 for i in range(len(spike_series))]\n",
    "\n",
    "discharge_timestamps = [5*i+0.2 for i in range(len(spike_series))]\n",
    "\n",
    "print(f\"Pulse timestamps: {pulse_timestamps}\")\n",
    "\n",
    "# Generate pulses and spikes\n",
    "generate_square_pulses(pulse_timestamps, pulse_width, start_time=0, end_time=40, time_step=0.05, filename='control_pulses.pwl.txt')\n",
    "generate_pwl_with_spikes(final_spike_series, start_time=0, end_time=40, time_step=0.05, filename='spike_output.pwl.txt')\n",
    "generate_square_pulses(discharge_timestamps, pulse_width, start_time=0, end_time=40, time_step=0.05, filename='discharge_pulses.pwl.txt')\n"
   ]
  },
  {
   "cell_type": "code",
   "execution_count": 2,
   "metadata": {},
   "outputs": [
    {
     "name": "stdout",
     "output_type": "stream",
     "text": [
      "PWL file 'square_pulses.pwl' generated successfully.\n"
     ]
    }
   ],
   "source": []
  },
  {
   "cell_type": "code",
   "execution_count": null,
   "metadata": {},
   "outputs": [],
   "source": []
  }
 ],
 "metadata": {
  "kernelspec": {
   "display_name": "venv",
   "language": "python",
   "name": "python3"
  },
  "language_info": {
   "codemirror_mode": {
    "name": "ipython",
    "version": 3
   },
   "file_extension": ".py",
   "mimetype": "text/x-python",
   "name": "python",
   "nbconvert_exporter": "python",
   "pygments_lexer": "ipython3",
   "version": "3.10.12"
  }
 },
 "nbformat": 4,
 "nbformat_minor": 2
}
